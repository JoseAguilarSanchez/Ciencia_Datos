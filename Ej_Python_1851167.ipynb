{
 "cells": [
  {
   "cell_type": "markdown",
   "id": "92cd00e2",
   "metadata": {},
   "source": [
    "# Actividad   \n",
    "### Nombre: José Antonio Aguilar Sanchez \n",
    "### Matricula: 1851167"
   ]
  },
  {
   "cell_type": "markdown",
   "id": "dc415773",
   "metadata": {},
   "source": [
    "**Ejercicio_1**: Realiza una variable con tu matricula y realiza una secuencia de imprimir con tu nombre y tu matricula concatenados.\n",
    "    \n",
    "\n"
   ]
  },
  {
   "cell_type": "code",
   "execution_count": 6,
   "id": "d3bcb304",
   "metadata": {
    "collapsed": true
   },
   "outputs": [
    {
     "name": "stdout",
     "output_type": "stream",
     "text": [
      "Soy José Antonio Aguilar Sanchez y mi matricula es 1851167\n"
     ]
    }
   ],
   "source": [
    "Matricula= 1851167\n",
    "Nombre= 'José Antonio Aguilar Sanchez'\n",
    "print('Soy {} y mi matricula es {}'.format(Nombre, Matricula))"
   ]
  },
  {
   "cell_type": "markdown",
   "id": "08b55e49",
   "metadata": {},
   "source": [
    "**Ejercicio_2**: Pidiendo el input del usuario pide dos números y crea una pequeña calculadora con los operadores básicos de suma, resta, multiplicación, división, y exponente.\n",
    "\n",
    "Utilizando el loop de while\n",
    "    "
   ]
  },
  {
   "cell_type": "code",
   "execution_count": 6,
   "id": "d8a8c7ca",
   "metadata": {
    "collapsed": true
   },
   "outputs": [
    {
     "name": "stdout",
     "output_type": "stream",
     "text": [
      "Introduce el primer numero: 2\n",
      "Introduce el segundo numero: 3\n",
      "¿Que deseas calcular? \n",
      " 1) Suma\n",
      " 2) Resta\n",
      " 3) Multiplicacion\n",
      " 4) Division\n",
      " 5) Exponente \n",
      "Introduce tu opcion (El numero): 1\n",
      "El resultado de la suma es: 5\n",
      "¿Deseas realizar otro calculo? \n",
      " 1) Si\n",
      " 2) No\n",
      "Introduce tu opcion (El numero): 2\n",
      "Gracias por usar la calculadora:)\n"
     ]
    }
   ],
   "source": [
    "n=0\n",
    "while n==0: \n",
    "    num1= int(input(\"Introduce el primer numero: \"))\n",
    "    num2= int(input(\"Introduce el segundo numero: \"))\n",
    "    \n",
    "    print(\"¿Que deseas calcular? \\n 1) Suma\\n 2) Resta\\n 3) Multiplicacion\\n 4) Division\\n 5) Exponente \")\n",
    "    opcion= int(input(\"Introduce tu opcion (El numero): \"))\n",
    "    \n",
    "    if opcion== 1:\n",
    "        suma= num1 + num2 \n",
    "        print('El resultado de la suma es: {}'.format(suma))\n",
    "    else:\n",
    "        if opcion== 2:\n",
    "            rest= num2- num1 \n",
    "            print('El resultado de la resta es (Se resta el segundo numero menos el primero) : {}'. format(rest))\n",
    "        else: \n",
    "            if opcion== 3: \n",
    "                mult= num1*num2\n",
    "                print('El resultado de la multiplicacion es: {}'.format(mult))\n",
    "            else:\n",
    "                if opcion==4:\n",
    "                    div= num2/num1\n",
    "                    print('El resultado de dividir el segundo numero entre el primer numero es: {}'. format(div))\n",
    "                else:\n",
    "                    if opcion == 5:\n",
    "                        exp= num1**num2 \n",
    "                        print('El resultado de elevar el primer numero a la potencia del segundo numero: {}'. format(exp))\n",
    "                        \n",
    "    print(\"¿Deseas realizar otro calculo? \\n 1) Si\\n 2) No\")\n",
    "    resp= int(input(\"Introduce tu opcion (El numero): \"))\n",
    "    \n",
    "    if resp== 2:\n",
    "        n=1\n",
    "\n",
    "print('Gracias por usar la calculadora:)')  \n"
   ]
  },
  {
   "cell_type": "markdown",
   "id": "ce3eaabb",
   "metadata": {},
   "source": [
    "**Ejercicio_3**: Con loop while o for, realiza una lista de 10 numeros multiplos de 3, y después realiza una función de loop que sume todos los números dentro del arreglo.\n"
   ]
  },
  {
   "cell_type": "code",
   "execution_count": 14,
   "id": "67ad8cb1",
   "metadata": {
    "collapsed": true
   },
   "outputs": [
    {
     "name": "stdout",
     "output_type": "stream",
     "text": [
      "Introduce el numero 1: 6\n",
      "Introduce el numero 2: 6\n",
      "Introduce el numero 3: 6\n",
      "Introduce el numero 4: 6\n",
      "Introduce el numero 5: 6\n",
      "Introduce el numero 6: 6\n",
      "Introduce el numero 7: 6\n",
      "Introduce el numero 8: 6\n",
      "Introduce el numero 9: 7\n",
      "Dicho numero introducido no es multiplo de 3, pruebe con otro: \n",
      "Introduce el numero 9: 6\n",
      "Introduce el numero 10: 6\n",
      "[6, 6, 6, 6, 6, 6, 6, 6, 6, 6]\n",
      "La suma de los elementos de la lista es: 60\n"
     ]
    }
   ],
   "source": [
    "lista= [0,0,0,0,0,0,0,0,0,0]\n",
    "control =0\n",
    "n=0\n",
    "while n < 10:\n",
    "    if control== 0:\n",
    "        num= int(input(\"Introduce el numero {}: \". format(n+1)))\n",
    "        aux= num%3\n",
    "    if aux == 0:\n",
    "        lista[n]=num\n",
    "        n= n+1\n",
    "    else: \n",
    "        print('Dicho numero introducido no es multiplo de 3, pruebe con otro: ')\n",
    "        \n",
    "print(lista)\n",
    "\n",
    "suma= 0\n",
    "for i in lista:\n",
    "    suma= suma + i\n",
    "\n",
    "print('La suma de los elementos de la lista es: {}'.format(suma))\n"
   ]
  },
  {
   "cell_type": "markdown",
   "id": "96025cc8",
   "metadata": {},
   "source": [
    "**Ejercicio_4**:     \n",
    "* Con una función de if else, revisar si un número es par o es impar.    \n",
    "* Con una función de if else, revisar si un número es primo o no.  \n"
   ]
  },
  {
   "cell_type": "code",
   "execution_count": 30,
   "id": "f803adc3",
   "metadata": {},
   "outputs": [
    {
     "name": "stdout",
     "output_type": "stream",
     "text": [
      "Introduce un numero: 5\n",
      "El numero 5 es impar\n",
      "El numero 5 es primo\n"
     ]
    }
   ],
   "source": [
    "num= int(input(\"Introduce un numero: \"))\n",
    "prueba1= num%2\n",
    "\n",
    "if (prueba1 == 0) | (num==0):\n",
    "    print('El numero {} es par'.format(num))\n",
    "else: \n",
    "    print('El numero {} es impar'.format(num))\n",
    "\n",
    "\n",
    "contador = 0\n",
    "for i in range(1,num+1):\n",
    "    if (num% i)==0:\n",
    "        contador = contador + 1\n",
    "\n",
    "if contador==2:\n",
    "    print('El numero {} es primo'.format(num))\n",
    "else:\n",
    "    print('El numero {} no es primo'.format(num))\n",
    "    \n"
   ]
  },
  {
   "cell_type": "markdown",
   "id": "404a9152",
   "metadata": {},
   "source": [
    "**Ejercicio_5**: Utilizando diferentes clases en python, crea una calculadora con los operadores básicos de suma, resta, multiplicación, división, y exponente.\n"
   ]
  },
  {
   "cell_type": "code",
   "execution_count": 32,
   "id": "3b182fa9",
   "metadata": {
    "collapsed": true
   },
   "outputs": [
    {
     "name": "stdout",
     "output_type": "stream",
     "text": [
      "Introduce el primer numero: 2\n",
      "Introduce el segundo numero: 2\n",
      "¿Que deseas calcular? \n",
      " 1) Suma\n",
      " 2) Resta\n",
      " 3) Multiplicacion\n",
      " 4) Division\n",
      " 5) Exponente \n",
      "Introduce tu opcion (El numero): 2\n",
      "El resultado de la resta es (Se resta el segundo numero menos el primero) : 0\n",
      "¿Deseas realizar otro calculo? \n",
      " 1) Si\n",
      " 2) No\n",
      "Introduce tu opcion (El numero): 22\n",
      "Introduce el primer numero: 1\n",
      "Introduce el segundo numero: 1\n",
      "¿Que deseas calcular? \n",
      " 1) Suma\n",
      " 2) Resta\n",
      " 3) Multiplicacion\n",
      " 4) Division\n",
      " 5) Exponente \n",
      "Introduce tu opcion (El numero): 2\n",
      "El resultado de la resta es (Se resta el segundo numero menos el primero) : 0\n",
      "¿Deseas realizar otro calculo? \n",
      " 1) Si\n",
      " 2) No\n",
      "Introduce tu opcion (El numero): 2\n",
      "Gracias por usar la calculadora:)\n"
     ]
    }
   ],
   "source": [
    "n=0\n",
    "while n==0: \n",
    "    num1= int(input(\"Introduce el primer numero: \"))\n",
    "    num2= int(input(\"Introduce el segundo numero: \"))\n",
    "    \n",
    "    print(\"¿Que deseas calcular? \\n 1) Suma\\n 2) Resta\\n 3) Multiplicacion\\n 4) Division\\n 5) Exponente \")\n",
    "    opcion= int(input(\"Introduce tu opcion (El numero): \"))\n",
    "    \n",
    "    if opcion== 1:\n",
    "        suma= num1 + num2 \n",
    "        print('El resultado de la suma es: {}'.format(suma))\n",
    "    else:\n",
    "        if opcion== 2:\n",
    "            rest= num2- num1 \n",
    "            print('El resultado de la resta es (Se resta el segundo numero menos el primero) : {}'. format(rest))\n",
    "        else: \n",
    "            if opcion== 3: \n",
    "                mult= num1*num2\n",
    "                print('El resultado de la multiplicacion es: {}'.format(mult))\n",
    "            else:\n",
    "                if opcion==4:\n",
    "                    div= num2/num1\n",
    "                    print('El resultado de dividir el segundo numero entre el primer numero es: {}'. format(div))\n",
    "                else:\n",
    "                    if opcion == 5:\n",
    "                        exp= num1**num2 \n",
    "                        print('El resultado de elevar el primer numero a la potencia del segundo numero: {}'. format(exp))\n",
    "                        \n",
    "    print(\"¿Deseas realizar otro calculo? \\n 1) Si\\n 2) No\")\n",
    "    resp= int(input(\"Introduce tu opcion (El numero): \"))\n",
    "    \n",
    "    if resp== 2:\n",
    "        n=1\n",
    "\n",
    "print('Gracias por usar la calculadora:)')  \n",
    "\n",
    "# HAY DUDA....\n"
   ]
  },
  {
   "cell_type": "markdown",
   "id": "7e58066f",
   "metadata": {},
   "source": [
    "# Ejercicios con estructuras básicas de python"
   ]
  },
  {
   "cell_type": "markdown",
   "id": "e08a3694",
   "metadata": {},
   "source": [
    "### Tuplas  \n",
    "* A) Crear una variable flotante, integer, boleana y compleja e imprimir el tipo de variable que es.  \n",
    "\n",
    "* B) Crear una tupla con valores enteros imprimir el primer y ultimo valor.  \n",
    "\n",
    "* C) Añadir 3 valores de string a la tupla.  \n",
    "\n",
    "* D) Verificar si una variable existe dentro de la tupla.  \n",
    "\n"
   ]
  },
  {
   "cell_type": "code",
   "execution_count": 51,
   "id": "6242ea04",
   "metadata": {
    "collapsed": true
   },
   "outputs": [
    {
     "name": "stdout",
     "output_type": "stream",
     "text": [
      "Inciso A\n",
      "La variable es de tipo <class 'float'>\n",
      "La variable es de tipo <class 'int'>\n",
      "La variable es de tipo <class 'bool'>\n",
      "La variable es de tipo <class 'complex'>\n",
      "-------------------------------------------------------------------------------\n",
      "Inciso B\n",
      "El primer valor es: 9\n",
      "El ultimo valor es: 3\n",
      "-------------------------------------------------------------------------------\n",
      "Inciso C\n",
      "(9, 5, 6, 4, 2, 3, 'Arriba', 'el', 'Monterrey')\n",
      "-------------------------------------------------------------------------------\n",
      "Inciso D\n",
      "La variable con valor Monterrey se encuentra dentro de la tupla\n"
     ]
    }
   ],
   "source": [
    "print('Inciso A') \n",
    "flot=222.22\n",
    "print('La variable es de tipo {}'. format(type(flot)))\n",
    "\n",
    "entero= 34\n",
    "print('La variable es de tipo {}'. format(type(entero)))\n",
    "\n",
    "bol=False\n",
    "print('La variable es de tipo {}'. format(type(bol)))\n",
    "\n",
    "compl=8+66j\n",
    "print('La variable es de tipo {}'. format(type(compl)))\n",
    "\n",
    "print('-------------------------------------------------------------------------------')\n",
    "\n",
    "print('Inciso B') \n",
    "\n",
    "tup=(9,5,6,4,2,3)\n",
    "\n",
    "print('El primer valor es: {}'.format(tup[0]))\n",
    "print('El ultimo valor es: {}'.format(tup[5]))\n",
    "\n",
    "\n",
    "print('-------------------------------------------------------------------------------')\n",
    "\n",
    "print('Inciso C') \n",
    "\n",
    "tup2=(\"Arriba\",\"el\",\"Monterrey\")\n",
    "tupf= tup + tup2\n",
    "print(tupf)\n",
    "\n",
    "print('-------------------------------------------------------------------------------')\n",
    "\n",
    "print('Inciso D') \n",
    "\n",
    "val=\"Monterrey\"\n",
    "if val in tupf:\n",
    "    print(\"La variable con valor {} se encuentra dentro de la tupla\".format(val))\n",
    "else:\n",
    "    print(\"La variable con valor {} NO se encuentra dentro de la tupla\".format(val))\n"
   ]
  },
  {
   "cell_type": "markdown",
   "id": "0cd0391d",
   "metadata": {},
   "source": [
    "### Listas  \n",
    "* A) Crear una lista con 40 elementos aleatorios enteros.  \n",
    "\n",
    "* B) Con una funcion (def) crear dos listas nuevas a partir de la lista creada por numeros aleatorios, en la cual en una esten los elementos pares, y en la otra los elementos impares.\n",
    "\n",
    "* C) Crear dos variables con la longitud de ambas listas nuevas e imprimir las variables.\n",
    "\n",
    "* D) Ordenar los elementos de la lista par de mayor a menor, y los de la lista impar de menor a mayor.  \n",
    "\n",
    "* E) Utilizar al menos cuatro de las funciones de listas en python en la lista original de 40 elementos.\n",
    "\n"
   ]
  },
  {
   "cell_type": "code",
   "execution_count": 37,
   "id": "3aa81734",
   "metadata": {
    "collapsed": true
   },
   "outputs": [
    {
     "name": "stdout",
     "output_type": "stream",
     "text": [
      "Inciso A\n",
      "[400378748, 2459480549, 1679858682, 6757267285, 2089767759, 1507403180, 2648081931, 3980834871, 3370993214, 2997478675, 5038498377, 5148893027, 3533265188, 5052041140, 7490137766, 8027772141, 150338585, 306440838, 6509661779, 1855046057, 3329595156, 3488478107, 1829690517, 5307936490, 4874592645, 4450988491, 9515501113, 7415598935, 3023434555, 4574118875, 8008603757, 9101401858, 9047368874, 9328332579, 1550719481, 1551257673, 2524164506, 7020371102, 2098231788, 3550134083]\n",
      "-------------------------------------------------------------------------------\n",
      "Inciso B\n",
      "Ya se creó la funcion\n",
      "-------------------------------------------------------------------------------\n"
     ]
    }
   ],
   "source": [
    "import random as r\n",
    "\n",
    "print('Inciso A') \n",
    "\n",
    "lista= [0]*40\n",
    "\n",
    "for i in range(len(lista)):\n",
    "    lista[i] = r.randint(1,10000000000)\n",
    "print(lista)\n",
    "\n",
    "print('-------------------------------------------------------------------------------')\n",
    "\n",
    "print ('Inciso B')\n",
    "\n",
    "def CreaNuevasListas (lista):\n",
    "    list_par = [1]         #Como no se sabe cuantos numero pares tendrá esta lista, se empieza de cero y se le asigna un valor que mas adelante borraremos               \n",
    "    list_impar = [1]       #Lo mismo aplica aca pero para impares             \n",
    "    i = 0\n",
    "    for i in range (len(lista)):\n",
    "        aux= lista[i]%2\n",
    "        if aux == 0:\n",
    "            list_par.append(lista[i])   #Esta instruccion agrega el valor si fue par o no lo fue          \n",
    "        else:\n",
    "            list_impar.append(lista[i]) #Lo mismo aplica aca \n",
    "            \n",
    "            \n",
    "    list_par.pop(0)        #Eliminamos la primer cifra\n",
    "    list_impar.pop(0)       #Eliminamos la primer cifra \n",
    "    \n",
    "    \n",
    "    a = list_par                        \n",
    "    b = list_impar                   \n",
    "    \n",
    "    return a, b      #regresamos las listas a y b\n",
    "\n",
    "print('Ya se creó la funcion')\n",
    "\n",
    "print('-------------------------------------------------------------------------------')\n"
   ]
  },
  {
   "cell_type": "code",
   "execution_count": 70,
   "id": "2d1ab3c0",
   "metadata": {
    "collapsed": true
   },
   "outputs": [
    {
     "name": "stdout",
     "output_type": "stream",
     "text": [
      "Inciso C\n",
      "Longitud de la lista de pares: 25\n",
      "Longitud de la lista de impares: 16\n",
      "-------------------------------------------------------------------------------\n",
      "Inciso D\n",
      "\n",
      "Lista de numeros pares sin ordenar\n",
      "\n",
      "[3438376408, 0, 156827130, 7136816494, 9511233500, 2055089460, 1195761066, 5744475984, 7426192090, 6341080074, 4773413166, 984449216, 3482346874, 4212469662, 295998888, 3728893192, 7282855440, 4417086596, 3250946358, 3116400014, 3943940388, 1813590414, 7107956226, 5957241654, 5174122446]\n",
      "\n",
      "Lista de numeros pares CON ordenar de manera ascendente\n",
      " \n",
      "[0, 156827130, 295998888, 984449216, 1195761066, 1813590414, 2055089460, 3116400014, 3250946358, 3438376408, 3482346874, 3728893192, 3943940388, 4212469662, 4417086596, 4773413166, 5174122446, 5744475984, 5957241654, 6341080074, 7107956226, 7136816494, 7282855440, 7426192090, 9511233500]\n",
      "\n",
      "Lista de numeros impares sin ordenar\n",
      "\n",
      "[9279342215, 4349431905, 1322075817, 9901806019, 335513221, 1542430801, 3673025449, 3727389503, 917594981, 8005665643, 8152358571, 5292213607, 1290328857, 394868165, 7262135871, 8306354583]\n",
      "\n",
      "Lista de numeros impares CON ordenar de manera descendente\n",
      " \n",
      "[9901806019, 9279342215, 8306354583, 8152358571, 8005665643, 7262135871, 5292213607, 4349431905, 3727389503, 3673025449, 1542430801, 1322075817, 1290328857, 917594981, 394868165, 335513221]\n",
      "-------------------------------------------------------------------------------\n",
      "Inciso E\n",
      "[9040694716, 603853099, 7662475646, 4411407906, 8469547784, 2784968884, 2239019550, 9564484787, 4827610271, 8570325733, 25648858, 2128059365, 6137835436, 1639086736, 2904084796, 8778204435, 3884975825, 1655123866, 9345877958, 278256503, 7625066242, 7067299955, 865745348, 3366944366, 129193874, 2870680037, 4074640431, 1790979869, 3983442857, 5153998465, 7510578494, 7481513878, 1170166470, 6886435020, 2922433128, 4132562548, 5394433945, 5090816858, 5782561174, 2457903219]\n",
      "\n",
      "Segunda funcion: Agregar un elemento a la lista\n",
      "\n",
      " Resultado de la primer funcion... \n",
      "\n",
      "[9040694716, 603853099, 7662475646, 4411407906, 8469547784, 2784968884, 2239019550, 9564484787, 4827610271, 8570325733, 25648858, 2128059365, 6137835436, 1639086736, 2904084796, 8778204435, 3884975825, 1655123866, 9345877958, 278256503, 7625066242, 7067299955, 865745348, 3366944366, 129193874, 2870680037, 4074640431, 1790979869, 3983442857, 5153998465, 7510578494, 7481513878, 1170166470, 6886435020, 2922433128, 4132562548, 5394433945, 5090816858, 5782561174, 2457903219, True]\n",
      "\n",
      "Segunda funcion: Eliminar un elemento conocido de la lista\n",
      "\n",
      " Resultado de la segunda funcion... \n",
      "\n",
      "[9040694716, 603853099, 7662475646, 4411407906, 8469547784, 2784968884, 2239019550, 9564484787, 4827610271, 8570325733, 25648858, 2128059365, 6137835436, 1639086736, 2904084796, 8778204435, 3884975825, 1655123866, 9345877958, 278256503, 7625066242, 7067299955, 865745348, 3366944366, 129193874, 2870680037, 4074640431, 1790979869, 3983442857, 5153998465, 7510578494, 7481513878, 1170166470, 6886435020, 2922433128, 4132562548, 5394433945, 5090816858, 5782561174, 2457903219]\n",
      "\n",
      "Tercera funcion: agregar elementos en cualquier posicion de una lista \n",
      "\n",
      " Resultado de la tercera funcion... \n",
      "\n",
      "[9040694716, 0, 603853099, 7662475646, 4411407906, 8469547784, 2784968884, 2239019550, 9564484787, 4827610271, 8570325733, 25648858, 2128059365, 6137835436, 1639086736, 2904084796, 8778204435, 3884975825, 1655123866, 9345877958, 278256503, 7625066242, 7067299955, 865745348, 3366944366, 129193874, 2870680037, 4074640431, 1790979869, 3983442857, 5153998465, 7510578494, 7481513878, 1170166470, 6886435020, 2922433128, 4132562548, 5394433945, 5090816858, 5782561174, 2457903219]\n",
      "\n",
      "Cuarta funcion: realizar una copia de la lista\n",
      "\n",
      " Resultado de la cuarta funcion... \n",
      "\n",
      "[9040694716, 0, 603853099, 7662475646, 4411407906, 8469547784, 2784968884, 2239019550, 9564484787, 4827610271, 8570325733, 25648858, 2128059365, 6137835436, 1639086736, 2904084796, 8778204435, 3884975825, 1655123866, 9345877958, 278256503, 7625066242, 7067299955, 865745348, 3366944366, 129193874, 2870680037, 4074640431, 1790979869, 3983442857, 5153998465, 7510578494, 7481513878, 1170166470, 6886435020, 2922433128, 4132562548, 5394433945, 5090816858, 5782561174, 2457903219]\n"
     ]
    }
   ],
   "source": [
    "CreaNuevasListas(lista) #Comprobacion de la funcion del inciso B \n",
    "\n",
    "print('Inciso C') \n",
    "\n",
    "list1_par, list1_impar =CreaNuevasListas(lista)  #Guardamos los valores de lista 1 y lista 2 en las variables para separar\n",
    "\n",
    "list1_par     #Comprobamos que las listas sean correctas\n",
    "list1_impar \n",
    "\n",
    "x= len(list1_par)\n",
    "y= len(list1_impar)\n",
    "\n",
    "print('Longitud de la lista de pares: {}'.format(x))\n",
    "print('Longitud de la lista de impares: {}'.format(y))\n",
    "\n",
    "print('-------------------------------------------------------------------------------')\n",
    "\n",
    "print('Inciso D')\n",
    "\n",
    "print('\\nLista de numeros pares sin ordenar\\n')\n",
    "print(list1_par)\n",
    "print('\\nLista de numeros pares CON ordenar de manera ascendente\\n ') \n",
    "print(sorted(list1_par, reverse=False)) #Ordena de menor a mayor \n",
    "\n",
    "print('\\nLista de numeros impares sin ordenar\\n')\n",
    "print(list1_impar)\n",
    "print('\\nLista de numeros impares CON ordenar de manera descendente\\n ') \n",
    "print(sorted(list1_impar, reverse=True)) #Ordena de menor a mayor \n",
    "\n",
    "print('-------------------------------------------------------------------------------')\n",
    "\n",
    "print('Inciso E')\n",
    "\n",
    "#Retomando lo del inciso A, para aplicarlo en el incison E \n",
    "\n",
    "lista= [0]*40\n",
    "\n",
    "for i in range(len(lista)):\n",
    "    lista[i] = r.randint(1,10000000000)\n",
    "print(lista)\n",
    "\n",
    "print('\\nSegunda funcion: Agregar un elemento a la lista')\n",
    "lista.append(True) #Se agrega la palabra True\n",
    "print('\\n Resultado de la primer funcion... \\n')\n",
    "print(lista)\n",
    "\n",
    "print('\\nSegunda funcion: Eliminar un elemento conocido de la lista')\n",
    "lista.remove(True) #Es el primer termino de la lista, se elimina \n",
    "print('\\n Resultado de la segunda funcion... \\n')\n",
    "print (lista)\n",
    "\n",
    "print('\\nTercera funcion: agregar elementos en cualquier posicion de una lista ')\n",
    "lista.insert(1,0) #Se agrega el cero en la posicion 1\n",
    "print('\\n Resultado de la tercera funcion... \\n')\n",
    "print (lista)\n",
    "\n",
    "print('\\nCuarta funcion: realizar una copia de la lista')\n",
    "list_copia= lista.copy() #Se copia la lista en una variable\n",
    "print('\\n Resultado de la cuarta funcion... \\n')\n",
    "print (list_copia)\n"
   ]
  },
  {
   "cell_type": "markdown",
   "id": "ff189bb5",
   "metadata": {},
   "source": [
    "### Diccionarios  \n",
    "* A) Crear un diccionario de 6 personas que conozcas con su primer nombre y su edad. \n",
    "\n",
    "* B) Crear una lista con los valores de la edad y reacomodar la lista de menor a mayor valor.\n",
    "\n",
    "* C) Usando el diccionario y un loop, imprimir solo los nombres.\n",
    "\n",
    "* D) Añadir dos personas nuevas a tu diccionario, incluyendo edad. \n"
   ]
  },
  {
   "cell_type": "code",
   "execution_count": 82,
   "id": "bcc0ae44",
   "metadata": {
    "collapsed": true
   },
   "outputs": [
    {
     "name": "stdout",
     "output_type": "stream",
     "text": [
      "Inciso A\n",
      "{'Angela': 20, 'Manuel': 20, 'Abigail': 22, 'Alfonso': 20, 'Alfonso A': 14, 'Isabel': 20}\n",
      "-------------------------------------------------------------------------------\n",
      "Inciso B\n",
      "Lista de edades ordenadas (menor a mayor):\n",
      " \n",
      "[14, 20, 20, 20, 20, 22]\n",
      "-------------------------------------------------------------------------------\n",
      "Inciso C\n",
      "El Nombre de la persona 1 es: Angela\n",
      "El Nombre de la persona 2 es: Manuel\n",
      "El Nombre de la persona 3 es: Abigail\n",
      "El Nombre de la persona 4 es: Alfonso\n",
      "El Nombre de la persona 5 es: Alfonso A\n",
      "El Nombre de la persona 6 es: Isabel\n",
      "-------------------------------------------------------------------------------\n",
      "Inciso D\n",
      "{'Angela': 20, 'Manuel': 20, 'Abigail': 22, 'Alfonso': 20, 'Alfonso A': 14, 'Isabel': 20, 'Mary': 43, 'Antonio': 43}\n"
     ]
    }
   ],
   "source": [
    "print('Inciso A')\n",
    "\n",
    "diccionario = {'Angela': 20, 'Manuel': 20, 'Abigail': 22, 'Alfonso': 20, 'Alfonso A': 14, 'Isabel': 20}\n",
    "print(diccionario)\n",
    "\n",
    "print('-------------------------------------------------------------------------------')\n",
    "\n",
    "print('Inciso B')\n",
    "\n",
    "lista_dic_edad = list(diccionario.values())\n",
    "list_ord = sorted(lista_dic_edad) \n",
    "\n",
    "print('Lista de edades ordenadas (menor a mayor):\\n ')\n",
    "print(list_ord)\n",
    "\n",
    "print('-------------------------------------------------------------------------------')\n",
    "\n",
    "print('Inciso C')\n",
    "\n",
    "for i in range (len(diccionario)):\n",
    "    print('El Nombre de la persona {} es: {}'. format((i+1), list(diccionario.keys())[i]))\n",
    "    \n",
    "\n",
    "print('-------------------------------------------------------------------------------')\n",
    "\n",
    "print('Inciso D')\n",
    "\n",
    "diccionario['Mary'] = 43\n",
    "diccionario['Antonio'] = 43\n",
    "print(diccionario)\n"
   ]
  },
  {
   "cell_type": "code",
   "execution_count": null,
   "id": "5e3edb25",
   "metadata": {},
   "outputs": [],
   "source": [
    "lista_dic_edad = list(diccionario.values())\n",
    "list_ord = sorted(lista_dic_edad) \n",
    "\n",
    "print('Lista de edades ordenadas (menor a mayor):\\n ')\n",
    "print(list_ord)\n"
   ]
  },
  {
   "cell_type": "markdown",
   "id": "deaacbdd",
   "metadata": {},
   "source": [
    "### Sets \n",
    "* A) Crea un set con 100 numeros aleatorios enteros del 1 al 25.\n",
    "\n",
    "* B) Comprueba la longitud de tu set.\n",
    "\n",
    "* C) Crea una lista de 5 numeros aleatorios del 1 al 10 y comprueba si cada valor aparece en el set inicial.\n"
   ]
  },
  {
   "cell_type": "code",
   "execution_count": 90,
   "id": "5b4c2562",
   "metadata": {
    "collapsed": true
   },
   "outputs": [
    {
     "name": "stdout",
     "output_type": "stream",
     "text": [
      "Inciso A\n",
      "El set esta compuesto por: \n",
      "\n",
      "{1, 2, 3, 4, 5, 6, 7, 8, 9, 10, 11, 12, 13, 14, 16, 17, 18, 19, 20, 21, 22, 23, 24, 25}\n",
      "-------------------------------------------------------------------------------\n",
      "Inciso B\n",
      "24\n",
      "-------------------------------------------------------------------------------\n",
      "Inciso C\n",
      "La lista generada es: \n",
      "\n",
      "[7, 6, 9, 4, 1]\n",
      "El elemento 7 se encuentra en el set\n",
      "El elemento 6 se encuentra en el set\n",
      "El elemento 9 se encuentra en el set\n",
      "El elemento 4 se encuentra en el set\n",
      "El elemento 1 se encuentra en el set\n"
     ]
    }
   ],
   "source": [
    "print('Inciso A')\n",
    "\n",
    "import random as r\n",
    "\n",
    "i = 0\n",
    "nvo_set = set()   #set vacio\n",
    "for i in range(100):\n",
    "    nvo_set.add(r.randint(1,25)) #Llenamos el set \n",
    "\n",
    "print('El set esta compuesto por: \\n')\n",
    "print(nvo_set)\n",
    "\n",
    "print('-------------------------------------------------------------------------------')\n",
    "\n",
    "print('Inciso B')\n",
    "\n",
    "print(len(nvo_set))\n",
    "\n",
    "print('-------------------------------------------------------------------------------')\n",
    "\n",
    "print('Inciso C')\n",
    "\n",
    "lista = [0]*5       #Llenamos de ceros la lista\n",
    "i = 0   \n",
    "for i in range(len(lista)):\n",
    "    lista[i] = r.randint(1,10) #Agregamos valores aleatorios de cero a 10 a la lista \n",
    "\n",
    "print('La lista generada es: \\n')\n",
    "print(lista)\n",
    "\n",
    "i = 0\n",
    "for i in range(5):\n",
    "    if lista[i] in nvo_set:     #Se checa si se encuentra el elemento \n",
    "        print('El elemento {} se encuentra en el set'.format(lista[i]))\n",
    "    else:\n",
    "        print('El elemento {} NO se encuentra en el set'.format(lista[i]))\n",
    "    \n",
    "\n",
    "\n",
    "\n"
   ]
  }
 ],
 "metadata": {
  "kernelspec": {
   "display_name": "Python 3",
   "language": "python",
   "name": "python3"
  },
  "language_info": {
   "codemirror_mode": {
    "name": "ipython",
    "version": 3
   },
   "file_extension": ".py",
   "mimetype": "text/x-python",
   "name": "python",
   "nbconvert_exporter": "python",
   "pygments_lexer": "ipython3",
   "version": "3.8.8"
  }
 },
 "nbformat": 4,
 "nbformat_minor": 5
}
